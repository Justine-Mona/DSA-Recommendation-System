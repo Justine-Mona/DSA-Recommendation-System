{
 "cells": [
  {
   "cell_type": "code",
   "execution_count": 69,
   "id": "5bdaa2df",
   "metadata": {},
   "outputs": [],
   "source": [
    "## importing neccessary libray\n",
    "from sklearn.neighbors import NearestNeighbors\n",
    "from scipy.sparse import csr_matrix\n",
    "from surprise import Reader, Dataset\n",
    "from surprise.model_selection import train_test_split\n",
    "from surprise import SVDpp, accuracy\n",
    "from surprise.model_selection import cross_validate\n",
    "from collections import defaultdict\n",
    "from surprise import SVD, SVDpp, NMF\n",
    "from surprise import SlopeOne, CoClustering\n",
    "import matplotlib\n",
    "import pickle\n",
    "import pandas as pd\n",
    "import ast\n",
    "from sklearn.metrics.pairwise import cosine_similarity\n",
    "import seaborn as sns\n",
    "import numpy as np\n",
    "import matplotlib.pyplot as plt\n"
   ]
  },
  {
   "cell_type": "code",
   "execution_count": 70,
   "id": "4cf55270",
   "metadata": {},
   "outputs": [],
   "source": [
    "## Loading DataSet into pandas\n",
    "\n",
    "df_ratings = pd.read_csv(r'D:\\ml-latest-small\\ratings.csv')"
   ]
  },
  {
   "cell_type": "code",
   "execution_count": 71,
   "id": "90044d47",
   "metadata": {},
   "outputs": [
    {
     "data": {
      "text/html": [
       "<div>\n",
       "<style scoped>\n",
       "    .dataframe tbody tr th:only-of-type {\n",
       "        vertical-align: middle;\n",
       "    }\n",
       "\n",
       "    .dataframe tbody tr th {\n",
       "        vertical-align: top;\n",
       "    }\n",
       "\n",
       "    .dataframe thead th {\n",
       "        text-align: right;\n",
       "    }\n",
       "</style>\n",
       "<table border=\"1\" class=\"dataframe\">\n",
       "  <thead>\n",
       "    <tr style=\"text-align: right;\">\n",
       "      <th></th>\n",
       "      <th>userId</th>\n",
       "      <th>productId</th>\n",
       "      <th>rating</th>\n",
       "      <th>timestamp</th>\n",
       "    </tr>\n",
       "  </thead>\n",
       "  <tbody>\n",
       "    <tr>\n",
       "      <th>0</th>\n",
       "      <td>1</td>\n",
       "      <td>1</td>\n",
       "      <td>4.0</td>\n",
       "      <td>964982703</td>\n",
       "    </tr>\n",
       "    <tr>\n",
       "      <th>1</th>\n",
       "      <td>1</td>\n",
       "      <td>3</td>\n",
       "      <td>4.0</td>\n",
       "      <td>964981247</td>\n",
       "    </tr>\n",
       "    <tr>\n",
       "      <th>2</th>\n",
       "      <td>1</td>\n",
       "      <td>6</td>\n",
       "      <td>4.0</td>\n",
       "      <td>964982224</td>\n",
       "    </tr>\n",
       "    <tr>\n",
       "      <th>3</th>\n",
       "      <td>1</td>\n",
       "      <td>47</td>\n",
       "      <td>5.0</td>\n",
       "      <td>964983815</td>\n",
       "    </tr>\n",
       "    <tr>\n",
       "      <th>4</th>\n",
       "      <td>1</td>\n",
       "      <td>50</td>\n",
       "      <td>5.0</td>\n",
       "      <td>964982931</td>\n",
       "    </tr>\n",
       "  </tbody>\n",
       "</table>\n",
       "</div>"
      ],
      "text/plain": [
       "   userId  productId  rating  timestamp\n",
       "0       1          1     4.0  964982703\n",
       "1       1          3     4.0  964981247\n",
       "2       1          6     4.0  964982224\n",
       "3       1         47     5.0  964983815\n",
       "4       1         50     5.0  964982931"
      ]
     },
     "execution_count": 71,
     "metadata": {},
     "output_type": "execute_result"
    }
   ],
   "source": [
    "\n",
    "df_ratings.head()\n"
   ]
  },
  {
   "cell_type": "code",
   "execution_count": 72,
   "id": "dd6713a2",
   "metadata": {},
   "outputs": [
    {
     "data": {
      "text/html": [
       "<div>\n",
       "<style scoped>\n",
       "    .dataframe tbody tr th:only-of-type {\n",
       "        vertical-align: middle;\n",
       "    }\n",
       "\n",
       "    .dataframe tbody tr th {\n",
       "        vertical-align: top;\n",
       "    }\n",
       "\n",
       "    .dataframe thead th {\n",
       "        text-align: right;\n",
       "    }\n",
       "</style>\n",
       "<table border=\"1\" class=\"dataframe\">\n",
       "  <thead>\n",
       "    <tr style=\"text-align: right;\">\n",
       "      <th></th>\n",
       "      <th>userId</th>\n",
       "      <th>productId</th>\n",
       "      <th>rating</th>\n",
       "      <th>timestamp</th>\n",
       "    </tr>\n",
       "  </thead>\n",
       "  <tbody>\n",
       "    <tr>\n",
       "      <th>100831</th>\n",
       "      <td>610</td>\n",
       "      <td>166534</td>\n",
       "      <td>4.0</td>\n",
       "      <td>1493848402</td>\n",
       "    </tr>\n",
       "    <tr>\n",
       "      <th>100832</th>\n",
       "      <td>610</td>\n",
       "      <td>168248</td>\n",
       "      <td>5.0</td>\n",
       "      <td>1493850091</td>\n",
       "    </tr>\n",
       "    <tr>\n",
       "      <th>100833</th>\n",
       "      <td>610</td>\n",
       "      <td>168250</td>\n",
       "      <td>5.0</td>\n",
       "      <td>1494273047</td>\n",
       "    </tr>\n",
       "    <tr>\n",
       "      <th>100834</th>\n",
       "      <td>610</td>\n",
       "      <td>168252</td>\n",
       "      <td>5.0</td>\n",
       "      <td>1493846352</td>\n",
       "    </tr>\n",
       "    <tr>\n",
       "      <th>100835</th>\n",
       "      <td>610</td>\n",
       "      <td>170875</td>\n",
       "      <td>3.0</td>\n",
       "      <td>1493846415</td>\n",
       "    </tr>\n",
       "  </tbody>\n",
       "</table>\n",
       "</div>"
      ],
      "text/plain": [
       "        userId  productId  rating   timestamp\n",
       "100831     610     166534     4.0  1493848402\n",
       "100832     610     168248     5.0  1493850091\n",
       "100833     610     168250     5.0  1494273047\n",
       "100834     610     168252     5.0  1493846352\n",
       "100835     610     170875     3.0  1493846415"
      ]
     },
     "execution_count": 72,
     "metadata": {},
     "output_type": "execute_result"
    }
   ],
   "source": [
    "df_ratings.tail()"
   ]
  },
  {
   "cell_type": "code",
   "execution_count": 73,
   "id": "34db0f8a",
   "metadata": {},
   "outputs": [],
   "source": [
    "df_reviews =  pd.read_csv(r'D:\\Reviews.csv')"
   ]
  },
  {
   "cell_type": "code",
   "execution_count": 74,
   "id": "1e9339b8",
   "metadata": {},
   "outputs": [
    {
     "data": {
      "text/html": [
       "<div>\n",
       "<style scoped>\n",
       "    .dataframe tbody tr th:only-of-type {\n",
       "        vertical-align: middle;\n",
       "    }\n",
       "\n",
       "    .dataframe tbody tr th {\n",
       "        vertical-align: top;\n",
       "    }\n",
       "\n",
       "    .dataframe thead th {\n",
       "        text-align: right;\n",
       "    }\n",
       "</style>\n",
       "<table border=\"1\" class=\"dataframe\">\n",
       "  <thead>\n",
       "    <tr style=\"text-align: right;\">\n",
       "      <th></th>\n",
       "      <th>Id</th>\n",
       "      <th>ProductId</th>\n",
       "      <th>UserId</th>\n",
       "      <th>ProfileName</th>\n",
       "      <th>HelpfulnessNumerator</th>\n",
       "      <th>HelpfulnessDenominator</th>\n",
       "      <th>Score</th>\n",
       "      <th>Time</th>\n",
       "      <th>Summary</th>\n",
       "      <th>Text</th>\n",
       "    </tr>\n",
       "  </thead>\n",
       "  <tbody>\n",
       "    <tr>\n",
       "      <th>0</th>\n",
       "      <td>1</td>\n",
       "      <td>B001E4KFG0</td>\n",
       "      <td>A3SGXH7AUHU8GW</td>\n",
       "      <td>delmartian</td>\n",
       "      <td>1</td>\n",
       "      <td>1</td>\n",
       "      <td>5</td>\n",
       "      <td>1303862400</td>\n",
       "      <td>Good Quality Dog Food</td>\n",
       "      <td>I have bought several of the Vitality canned d...</td>\n",
       "    </tr>\n",
       "    <tr>\n",
       "      <th>1</th>\n",
       "      <td>2</td>\n",
       "      <td>B00813GRG4</td>\n",
       "      <td>A1D87F6ZCVE5NK</td>\n",
       "      <td>dll pa</td>\n",
       "      <td>0</td>\n",
       "      <td>0</td>\n",
       "      <td>1</td>\n",
       "      <td>1346976000</td>\n",
       "      <td>Not as Advertised</td>\n",
       "      <td>Product arrived labeled as Jumbo Salted Peanut...</td>\n",
       "    </tr>\n",
       "    <tr>\n",
       "      <th>2</th>\n",
       "      <td>3</td>\n",
       "      <td>B000LQOCH0</td>\n",
       "      <td>ABXLMWJIXXAIN</td>\n",
       "      <td>Natalia Corres \"Natalia Corres\"</td>\n",
       "      <td>1</td>\n",
       "      <td>1</td>\n",
       "      <td>4</td>\n",
       "      <td>1219017600</td>\n",
       "      <td>\"Delight\" says it all</td>\n",
       "      <td>This is a confection that has been around a fe...</td>\n",
       "    </tr>\n",
       "    <tr>\n",
       "      <th>3</th>\n",
       "      <td>4</td>\n",
       "      <td>B000UA0QIQ</td>\n",
       "      <td>A395BORC6FGVXV</td>\n",
       "      <td>Karl</td>\n",
       "      <td>3</td>\n",
       "      <td>3</td>\n",
       "      <td>2</td>\n",
       "      <td>1307923200</td>\n",
       "      <td>Cough Medicine</td>\n",
       "      <td>If you are looking for the secret ingredient i...</td>\n",
       "    </tr>\n",
       "    <tr>\n",
       "      <th>4</th>\n",
       "      <td>5</td>\n",
       "      <td>B006K2ZZ7K</td>\n",
       "      <td>A1UQRSCLF8GW1T</td>\n",
       "      <td>Michael D. Bigham \"M. Wassir\"</td>\n",
       "      <td>0</td>\n",
       "      <td>0</td>\n",
       "      <td>5</td>\n",
       "      <td>1350777600</td>\n",
       "      <td>Great taffy</td>\n",
       "      <td>Great taffy at a great price.  There was a wid...</td>\n",
       "    </tr>\n",
       "  </tbody>\n",
       "</table>\n",
       "</div>"
      ],
      "text/plain": [
       "   Id   ProductId          UserId                      ProfileName  \\\n",
       "0   1  B001E4KFG0  A3SGXH7AUHU8GW                       delmartian   \n",
       "1   2  B00813GRG4  A1D87F6ZCVE5NK                           dll pa   \n",
       "2   3  B000LQOCH0   ABXLMWJIXXAIN  Natalia Corres \"Natalia Corres\"   \n",
       "3   4  B000UA0QIQ  A395BORC6FGVXV                             Karl   \n",
       "4   5  B006K2ZZ7K  A1UQRSCLF8GW1T    Michael D. Bigham \"M. Wassir\"   \n",
       "\n",
       "   HelpfulnessNumerator  HelpfulnessDenominator  Score        Time  \\\n",
       "0                     1                       1      5  1303862400   \n",
       "1                     0                       0      1  1346976000   \n",
       "2                     1                       1      4  1219017600   \n",
       "3                     3                       3      2  1307923200   \n",
       "4                     0                       0      5  1350777600   \n",
       "\n",
       "                 Summary                                               Text  \n",
       "0  Good Quality Dog Food  I have bought several of the Vitality canned d...  \n",
       "1      Not as Advertised  Product arrived labeled as Jumbo Salted Peanut...  \n",
       "2  \"Delight\" says it all  This is a confection that has been around a fe...  \n",
       "3         Cough Medicine  If you are looking for the secret ingredient i...  \n",
       "4            Great taffy  Great taffy at a great price.  There was a wid...  "
      ]
     },
     "execution_count": 74,
     "metadata": {},
     "output_type": "execute_result"
    }
   ],
   "source": [
    "df_reviews.head()"
   ]
  },
  {
   "cell_type": "code",
   "execution_count": 75,
   "id": "c8d714d2",
   "metadata": {},
   "outputs": [
    {
     "data": {
      "text/plain": [
       "Id                         int64\n",
       "ProductId                 object\n",
       "UserId                    object\n",
       "ProfileName               object\n",
       "HelpfulnessNumerator       int64\n",
       "HelpfulnessDenominator     int64\n",
       "Score                      int64\n",
       "Time                       int64\n",
       "Summary                   object\n",
       "Text                      object\n",
       "dtype: object"
      ]
     },
     "execution_count": 75,
     "metadata": {},
     "output_type": "execute_result"
    }
   ],
   "source": [
    "df_reviews.dtypes"
   ]
  },
  {
   "cell_type": "code",
   "execution_count": 76,
   "id": "969c05d5",
   "metadata": {},
   "outputs": [
    {
     "name": "stdout",
     "output_type": "stream",
     "text": [
      "Data set contains \"568454\" number of rows and \"10\" number of columns\n"
     ]
    }
   ],
   "source": [
    "#shape of data \n",
    "shape_Data = df_reviews.shape\n",
    "print('Data set contains \"{x}\" number of rows and \"{y}\" number of columns' .format(x=shape_Data[0],y=shape_Data[1]))"
   ]
  },
  {
   "cell_type": "code",
   "execution_count": 77,
   "id": "e03ae539",
   "metadata": {},
   "outputs": [
    {
     "data": {
      "text/plain": [
       "<AxesSubplot:>"
      ]
     },
     "execution_count": 77,
     "metadata": {},
     "output_type": "execute_result"
    },
    {
     "data": {
      "image/png": "[encoded data removed]",
      "text/plain": [
       "<Figure size 1200x600 with 1 Axes>"
      ]
     },
     "metadata": {},
     "output_type": "display_data"
    }
   ],
   "source": [
    "#null check\n",
    "sns.heatmap(df_reviews.isnull(),yticklabels=False,cbar=False,cmap='viridis')"
   ]
  },
  {
   "cell_type": "code",
   "execution_count": 78,
   "id": "cef4f420",
   "metadata": {},
   "outputs": [
    {
     "data": {
      "image/png": "[encoded data removed]",
      "text/plain": [
       "<Figure size 1200x800 with 1 Axes>"
      ]
     },
     "metadata": {},
     "output_type": "display_data"
    }
   ],
   "source": [
    "ratings_count = df_ratings['rating'].value_counts().sort_index(ascending=True)\n",
    "\n",
    "plt.figure(figsize=(12,8))\n",
    "\n",
    "ax = ratings_count.plot.bar()\n",
    "\n",
    "ax.set_xlabel(\"Rating\")\n",
    "\n",
    "ax.set_ylabel(\"Number of count\");\n",
    "\n",
    "ax.set_title(\"Distribution of votes by rating\");"
   ]
  },
  {
   "cell_type": "code",
   "execution_count": 79,
   "id": "8f05f9e0",
   "metadata": {},
   "outputs": [
    {
     "data": {
      "text/plain": [
       "[Text(0.5, 0, 'Rating'), Text(0, 0.5, 'Count')]"
      ]
     },
     "execution_count": 79,
     "metadata": {},
     "output_type": "execute_result"
    },
    {
     "data": {
      "image/png": "[encoded data removed]",
      "text/plain": [
       "<Figure size 1200x600 with 1 Axes>"
      ]
     },
     "metadata": {},
     "output_type": "display_data"
    }
   ],
   "source": [
    "# Rating frequency\n",
    "\n",
    "sns.set(rc={'figure.figsize': (12, 6)})\n",
    "sns.set_style('whitegrid')\n",
    "ax = sns.countplot(x='rating', data=df_ratings)\n",
    "ax.set(xlabel='Rating', ylabel='Count')"
   ]
  },
  {
   "cell_type": "code",
   "execution_count": 80,
   "id": "b7a687c1",
   "metadata": {},
   "outputs": [
    {
     "data": {
      "image/png": "[encoded data removed]",
      "text/plain": [
       "<Figure size 1500x800 with 1 Axes>"
      ]
     },
     "metadata": {},
     "output_type": "display_data"
    }
   ],
   "source": [
    "df = df_ratings[['productId','userId']].groupby(['productId']).agg(['count']).sort_values(('userId','count'),ascending=False)\n",
    "\n",
    "plt.figure(figsize=(15,8))\n",
    "\n",
    "sns.set_style(\"darkgrid\")\n",
    "\n",
    "sns.lineplot(data=df[('userId', 'count')].values)\n",
    "\n",
    "plt.title(\"Rating frequency of products\")\n",
    "\n",
    "plt.xlabel(\"Product\")\n",
    "\n",
    "plt.ylabel(\"Number of ratings\");"
   ]
  },
  {
   "cell_type": "code",
   "execution_count": 81,
   "id": "42d1f39e",
   "metadata": {},
   "outputs": [
    {
     "name": "stdout",
     "output_type": "stream",
     "text": [
      "Number of products which have more than 20 ratings: 1297\n"
     ]
    }
   ],
   "source": [
    "min_ratings = 20\n",
    "\n",
    "print(\"Number of products which have more than {} ratings: {}\".format(min_ratings, len(df[df[('userId', 'count')]>=min_ratings])))"
   ]
  },
  {
   "cell_type": "code",
   "execution_count": 82,
   "id": "52ae27d6",
   "metadata": {},
   "outputs": [],
   "source": [
    "df_top_products = df[df[('userId', 'count')]>=min_ratings]\n",
    "\n",
    "df_ratings_with_top_products = df_ratings[df_ratings['productId'].isin(list(df_top_products.index))]"
   ]
  },
  {
   "cell_type": "code",
   "execution_count": 83,
   "id": "42857a6f",
   "metadata": {},
   "outputs": [],
   "source": [
    "## Excluding users that have not rated atleast 20 products\n",
    "min_products_rated = 20\n",
    "\n",
    "df_users = df_ratings_with_top_products[['productId','userId']].groupby(['userId']).agg(['count']).sort_values(('productId','count'),ascending=False)\n",
    "\n",
    "df_top_rating_users = df_users[df_users[('productId', 'count')]>=min_products_rated]\n",
    "\n",
    "top_rating_users = list(df_top_rating_users.index)\n",
    "\n",
    "df_final=df_ratings_with_top_products[df_ratings_with_top_products['userId'].isin(top_rating_users)]"
   ]
  },
  {
   "cell_type": "code",
   "execution_count": 84,
   "id": "b1e6a291",
   "metadata": {},
   "outputs": [],
   "source": [
    "df_user_item_matrix = df_final.pivot(index='productId',columns='userId',values='rating').fillna(0)"
   ]
  },
  {
   "cell_type": "code",
   "execution_count": 85,
   "id": "c261421a",
   "metadata": {},
   "outputs": [],
   "source": [
    "#Matrix for the Algo\n",
    "user_item_matrix_sparse = csr_matrix(df_user_item_matrix.values)"
   ]
  },
  {
   "cell_type": "code",
   "execution_count": 86,
   "id": "4005b61c",
   "metadata": {},
   "outputs": [],
   "source": [
    "## Fill missing values with 0\n",
    "df_user_item_matrix = df_final.pivot(index='productId',columns='userId',values='rating').fillna(0)"
   ]
  },
  {
   "cell_type": "code",
   "execution_count": 87,
   "id": "18a0db9c",
   "metadata": {},
   "outputs": [],
   "source": [
    "## Sparse Matrix Representation\n",
    "\n",
    "user_item_matrix_sparse = csr_matrix(df_user_item_matrix.values)"
   ]
  },
  {
   "cell_type": "code",
   "execution_count": 88,
   "id": "bd5e0cfd",
   "metadata": {},
   "outputs": [
    {
     "data": {
      "text/plain": [
       "NearestNeighbors(algorithm='brute', metric='cosine', n_jobs=-1, n_neighbors=30)"
      ]
     },
     "execution_count": 88,
     "metadata": {},
     "output_type": "execute_result"
    }
   ],
   "source": [
    "## train the knn nearest neighbors\n",
    "model = NearestNeighbors(n_neighbors=30, metric='cosine', algorithm='brute', n_jobs=-1)\n",
    "model.fit(user_item_matrix_sparse)"
   ]
  },
  {
   "cell_type": "code",
   "execution_count": 89,
   "id": "42fe46a4",
   "metadata": {},
   "outputs": [],
   "source": [
    "# save the model to disk\n",
    "filename = 'finalized_model.sav'\n",
    "pickle.dump(model, open(filename, 'wb'))"
   ]
  },
  {
   "cell_type": "code",
   "execution_count": 90,
   "id": "69dbf46a",
   "metadata": {},
   "outputs": [],
   "source": [
    "## Store product and Ids in Dictonary\n",
    "index_to_reviews = dict()\n",
    "\n",
    "df_ids_prodcuts = df_reviews.set_index('Id').loc[df_user_item_matrix.index]\n",
    "\n",
    "count = 0\n",
    "\n",
    "for index, row in df_ids_prodcuts.iterrows():\n",
    "\n",
    "    index_to_reviews[count]=row['ProductId']\n",
    "\n",
    "    count +=1"
   ]
  },
  {
   "cell_type": "code",
   "execution_count": 96,
   "id": "546a9894",
   "metadata": {},
   "outputs": [
    {
     "name": "stdout",
     "output_type": "stream",
     "text": [
      "Recommendations for product B000ITVLE2: \n",
      "1. B0002567IW, recommendation score = 0.498\n",
      "2. B003VTN95K, recommendation score = 0.497\n",
      "3. B00067AD4U, recommendation score = 0.493\n",
      "4. B001EPQ0J0, recommendation score = 0.488\n",
      "5. B001EO5ZMO, recommendation score = 0.484\n",
      "6. B003YXWAF8, recommendation score = 0.474\n",
      "7. B001UJEN6C, recommendation score = 0.471\n",
      "8. B005P0HHGK, recommendation score = 0.463\n",
      "9. B001KUUNP6, recommendation score = 0.447\n",
      "10. B000G6RYNE, recommendation score = 0.446\n",
      "11. B0037ZFEW4, recommendation score = 0.446\n",
      "12. B0067LDV66, recommendation score = 0.441\n",
      "13. B000ITVLE2, recommendation score = 0.426\n",
      "14. B000G6RYNE, recommendation score = 0.423\n",
      "15. B003YXWAF8, recommendation score = 0.398\n",
      "16. B001UJEN6C, recommendation score = 0.387\n",
      "17. B000G6RYNE, recommendation score = 0.386\n",
      "18. B000G6RYNE, recommendation score = 0.381\n",
      "19. B000G6RYNE, recommendation score = 0.364\n",
      "20. B00067AD4U, recommendation score = 0.304\n"
     ]
    }
   ],
   "source": [
    "## Recommender Function\n",
    "\n",
    "\n",
    "def recommender(model, user_item_matrix_sparse,  df_reviews, number_of_recommendations, product_index):\n",
    "\n",
    "    product_id = index_to_reviews[product_index]\n",
    "\n",
    "    dist, ind = model.kneighbors(user_item_matrix_sparse[product_index], n_neighbors=number_of_recommendations+1)\n",
    "\n",
    "    dist = dist[0].tolist()\n",
    "\n",
    "    ind = ind[0].tolist()\n",
    "\n",
    "    ids = []\n",
    "\n",
    "    for index in ind:\n",
    "\n",
    "        ids.append(index_to_reviews[index])\n",
    "\n",
    "    recommendations = list(zip(ids,dist))    \n",
    "\n",
    "    # sort recommendations\n",
    "\n",
    "    recommendations_sorted = sorted(recommendations, key = lambda x:x[1])\n",
    "\n",
    "    # reverse recommendations, leaving out the first element \n",
    "\n",
    "    recommendations_sorted.reverse()\n",
    "\n",
    "    recommendations_sorted = recommendations_sorted[:-1]\n",
    "\n",
    "    print(\"Recommendations for product {}: \".format(product_id))\n",
    "\n",
    "    count = 0\n",
    "\n",
    "    for (id, distance) in recommendations_sorted:\n",
    "\n",
    "        count += 1\n",
    "\n",
    "        print('{}. {}, recommendation score = {}'.format(count, id, round(distance,3)))\n",
    "\n",
    "recommender(model, user_item_matrix_sparse, df_reviews, 20,50)"
   ]
  },
  {
   "cell_type": "code",
   "execution_count": null,
   "id": "82431d72",
   "metadata": {},
   "outputs": [],
   "source": []
  },
  {
   "cell_type": "code",
   "execution_count": null,
   "id": "592587c1",
   "metadata": {},
   "outputs": [],
   "source": []
  }
 ],
 "metadata": {
  "kernelspec": {
   "display_name": "Python 3.9.6 64-bit",
   "language": "python",
   "name": "python3"
  },
  "language_info": {
   "codemirror_mode": {
    "name": "ipython",
    "version": 3
   },
   "file_extension": ".py",
   "mimetype": "text/x-python",
   "name": "python",
   "nbconvert_exporter": "python",
   "pygments_lexer": "ipython3",
   "version": "3.9.6"
  },
  "vscode": {
   "interpreter": {
    "hash": "52634da84371cba311ea128a5ea7cdc41ff074b781779e754b270ff9f8153cee"
   }
  }
 },
 "nbformat": 4,
 "nbformat_minor": 5
}
